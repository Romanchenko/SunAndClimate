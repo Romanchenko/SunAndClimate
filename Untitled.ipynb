{
 "cells": [
  {
   "cell_type": "markdown",
   "metadata": {},
   "source": [
    "## Творческие поиски\n",
    "\n",
    "Итак, во вторник 03.03.2020 мы встретились с Алей и Шаповалом. Аля сказала, что надо категорично доделывать модель, а то, что сделала я - в целом фигня полная. Что было предложено - в 27-дневной амплитуде как-то учитывать плотность разных компонент. Играть с окном, на котором берется Фурье.\n",
    "\n",
    "Мои соображения - говорилось что-то об извлечении $p$ сразу из данных. То есть как-то эмпирически прикинуть $p$, не применяя Фурье. По идее надо вычесть тогда синус и взять логарифм. Можно попробовать.\n",
    "\n",
    "Нашла хороший ресурс про обработку сигналов - https://github.com/capitanov/dsp-theory"
   ]
  },
  {
   "cell_type": "code",
   "execution_count": null,
   "metadata": {},
   "outputs": [],
   "source": []
  }
 ],
 "metadata": {
  "kernelspec": {
   "display_name": "Python 3",
   "language": "python",
   "name": "python3"
  },
  "language_info": {
   "codemirror_mode": {
    "name": "ipython",
    "version": 3
   },
   "file_extension": ".py",
   "mimetype": "text/x-python",
   "name": "python",
   "nbconvert_exporter": "python",
   "pygments_lexer": "ipython3",
   "version": "3.6.9"
  }
 },
 "nbformat": 4,
 "nbformat_minor": 2
}
